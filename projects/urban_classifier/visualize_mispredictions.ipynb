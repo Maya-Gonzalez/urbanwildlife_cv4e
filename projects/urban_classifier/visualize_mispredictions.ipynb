{
 "cells": [
  {
   "cell_type": "code",
   "execution_count": 96,
   "metadata": {},
   "outputs": [],
   "source": [
    "cfg_path = 'configs/cfg_foccsd_400epochs_Rot.yaml'\n",
    "split = 'train'\n",
    "output_folder = '/datadrive/animals_training_dataset/predictions/UWIN_400e_Rot'"
   ]
  },
  {
   "cell_type": "code",
   "execution_count": 97,
   "metadata": {},
   "outputs": [],
   "source": [
    "import yaml\n",
    "import os\n",
    "from PIL import Image\n",
    "import matplotlib.pyplot as plt\n",
    "import torch\n",
    "\n",
    "from util import init_seed\n",
    "from train import create_dataloader, load_model "
   ]
  },
  {
   "cell_type": "code",
   "execution_count": 98,
   "metadata": {},
   "outputs": [
    {
     "ename": "FileNotFoundError",
     "evalue": "[Errno 2] No such file or directory: '/datadrive/animals_training_dataset/split_by_loc/train.txt'",
     "output_type": "error",
     "traceback": [
      "\u001b[0;31m---------------------------------------------------------------------------\u001b[0m",
      "\u001b[0;31mFileNotFoundError\u001b[0m                         Traceback (most recent call last)",
      "\u001b[1;32m/home/azureuser/urbanwildlife_cv4e/projects/urban_classifier/visualize_mispredictions.ipynb Cell 3\u001b[0m in \u001b[0;36m<cell line: 9>\u001b[0;34m()\u001b[0m\n\u001b[1;32m      <a href='vscode-notebook-cell://ssh-remote%2Bcv4e/home/azureuser/urbanwildlife_cv4e/projects/urban_classifier/visualize_mispredictions.ipynb#W2sdnNjb2RlLXJlbW90ZQ%3D%3D?line=5'>6</a>\u001b[0m     \u001b[39mprint\u001b[39m(\u001b[39mf\u001b[39m\u001b[39m'\u001b[39m\u001b[39mWARNING: device set to \u001b[39m\u001b[39m\"\u001b[39m\u001b[39m{\u001b[39;00mdevice\u001b[39m}\u001b[39;00m\u001b[39m\"\u001b[39m\u001b[39m but CUDA not available; falling back to CPU...\u001b[39m\u001b[39m'\u001b[39m)\n\u001b[1;32m      <a href='vscode-notebook-cell://ssh-remote%2Bcv4e/home/azureuser/urbanwildlife_cv4e/projects/urban_classifier/visualize_mispredictions.ipynb#W2sdnNjb2RlLXJlbW90ZQ%3D%3D?line=6'>7</a>\u001b[0m     cfg[\u001b[39m'\u001b[39m\u001b[39mdevice\u001b[39m\u001b[39m'\u001b[39m] \u001b[39m=\u001b[39m \u001b[39m'\u001b[39m\u001b[39mcpu\u001b[39m\u001b[39m'\u001b[39m\n\u001b[0;32m----> <a href='vscode-notebook-cell://ssh-remote%2Bcv4e/home/azureuser/urbanwildlife_cv4e/projects/urban_classifier/visualize_mispredictions.ipynb#W2sdnNjb2RlLXJlbW90ZQ%3D%3D?line=8'>9</a>\u001b[0m dataLoader \u001b[39m=\u001b[39m create_dataloader(cfg, split\u001b[39m=\u001b[39;49msplit)\n\u001b[1;32m     <a href='vscode-notebook-cell://ssh-remote%2Bcv4e/home/azureuser/urbanwildlife_cv4e/projects/urban_classifier/visualize_mispredictions.ipynb#W2sdnNjb2RlLXJlbW90ZQ%3D%3D?line=9'>10</a>\u001b[0m classnames \u001b[39m=\u001b[39m \u001b[39mdict\u001b[39m([v,k] \u001b[39mfor\u001b[39;00m k,v \u001b[39min\u001b[39;00m dataLoader\u001b[39m.\u001b[39mdataset\u001b[39m.\u001b[39mspecies_to_index_mapping\u001b[39m.\u001b[39mitems())\n\u001b[1;32m     <a href='vscode-notebook-cell://ssh-remote%2Bcv4e/home/azureuser/urbanwildlife_cv4e/projects/urban_classifier/visualize_mispredictions.ipynb#W2sdnNjb2RlLXJlbW90ZQ%3D%3D?line=10'>11</a>\u001b[0m model, epoch \u001b[39m=\u001b[39m load_model(cfg)\n",
      "File \u001b[0;32m~/urbanwildlife_cv4e/projects/urban_classifier/train.py:32\u001b[0m, in \u001b[0;36mcreate_dataloader\u001b[0;34m(cfg, split, num_imgs_per_species)\u001b[0m\n\u001b[1;32m     27\u001b[0m \u001b[39mdef\u001b[39;00m \u001b[39mcreate_dataloader\u001b[39m(cfg, split\u001b[39m=\u001b[39m\u001b[39m'\u001b[39m\u001b[39mtrain\u001b[39m\u001b[39m'\u001b[39m, num_imgs_per_species\u001b[39m=\u001b[39m\u001b[39m-\u001b[39m\u001b[39m1\u001b[39m):\n\u001b[1;32m     28\u001b[0m     \u001b[39m'''\u001b[39;00m\n\u001b[1;32m     29\u001b[0m \u001b[39m        Loads a dataset according to the provided split and wraps it in a\u001b[39;00m\n\u001b[1;32m     30\u001b[0m \u001b[39m        PyTorch DataLoader object.\u001b[39;00m\n\u001b[1;32m     31\u001b[0m \u001b[39m    '''\u001b[39;00m\n\u001b[0;32m---> 32\u001b[0m     dataset_instance \u001b[39m=\u001b[39m CTDataset(cfg, split, max_num\u001b[39m=\u001b[39;49mnum_imgs_per_species)        \u001b[39m# create an object instance of our CTDataset class\u001b[39;00m\n\u001b[1;32m     34\u001b[0m     dataLoader \u001b[39m=\u001b[39m DataLoader(\n\u001b[1;32m     35\u001b[0m             dataset\u001b[39m=\u001b[39mdataset_instance,\n\u001b[1;32m     36\u001b[0m             batch_size\u001b[39m=\u001b[39mcfg[\u001b[39m'\u001b[39m\u001b[39mbatch_size\u001b[39m\u001b[39m'\u001b[39m],\n\u001b[1;32m     37\u001b[0m             shuffle\u001b[39m=\u001b[39m\u001b[39mTrue\u001b[39;00m,\n\u001b[1;32m     38\u001b[0m             num_workers\u001b[39m=\u001b[39mcfg[\u001b[39m'\u001b[39m\u001b[39mnum_workers\u001b[39m\u001b[39m'\u001b[39m]\n\u001b[1;32m     39\u001b[0m         )\n\u001b[1;32m     40\u001b[0m     \u001b[39mreturn\u001b[39;00m dataLoader\n",
      "File \u001b[0;32m~/urbanwildlife_cv4e/projects/urban_classifier/dataset.py:49\u001b[0m, in \u001b[0;36mCTDataset.__init__\u001b[0;34m(self, cfg, split, split_type, max_num)\u001b[0m\n\u001b[1;32m     46\u001b[0m \u001b[39mself\u001b[39m\u001b[39m.\u001b[39mspecies_to_index_mapping \u001b[39m=\u001b[39m \u001b[39mdict\u001b[39m(\u001b[39mzip\u001b[39m(species, species_idx))\n\u001b[1;32m     48\u001b[0m \u001b[39m#load the train file\u001b[39;00m\n\u001b[0;32m---> 49\u001b[0m f \u001b[39m=\u001b[39m \u001b[39mopen\u001b[39m(os\u001b[39m.\u001b[39mpath\u001b[39m.\u001b[39mjoin(\u001b[39mself\u001b[39m\u001b[39m.\u001b[39mdata_root, \u001b[39mself\u001b[39m\u001b[39m.\u001b[39msplit_type\u001b[39m.\u001b[39mlower(), \u001b[39mself\u001b[39m\u001b[39m.\u001b[39msplit\u001b[39m.\u001b[39mlower()\u001b[39m+\u001b[39m\u001b[39m'\u001b[39m\u001b[39m.txt\u001b[39m\u001b[39m'\u001b[39m), \u001b[39m'\u001b[39m\u001b[39mr\u001b[39m\u001b[39m'\u001b[39m) \n\u001b[1;32m     50\u001b[0m lines \u001b[39m=\u001b[39m f\u001b[39m.\u001b[39mreadlines() \u001b[39m# load all lines\u001b[39;00m\n\u001b[1;32m     52\u001b[0m \u001b[39mfor\u001b[39;00m line \u001b[39min\u001b[39;00m lines: \u001b[39m# loop over lines\u001b[39;00m\n",
      "\u001b[0;31mFileNotFoundError\u001b[0m: [Errno 2] No such file or directory: '/datadrive/animals_training_dataset/split_by_loc/train.txt'"
     ]
    }
   ],
   "source": [
    "cfg = yaml.safe_load(open(cfg_path, 'r'))\n",
    "cfg['model_dir'] = os.path.join('..', '..', cfg['model_dir'])\n",
    "init_seed(cfg.get('seed', None))\n",
    "device = cfg['device']\n",
    "if device != 'cpu' and not torch.cuda.is_available():\n",
    "    print(f'WARNING: device set to \"{device}\" but CUDA not available; falling back to CPU...')\n",
    "    cfg['device'] = 'cpu'\n",
    "\n",
    "dataLoader = create_dataloader(cfg, split=split)\n",
    "classnames = dict([v,k] for k,v in dataLoader.dataset.species_to_index_mapping.items())\n",
    "model, epoch = load_model(cfg)\n",
    "model.to(device)\n",
    "model.eval()\n",
    "\n",
    "err_name = []\n",
    "err_pred=[]\n",
    "err_orig=[]\n",
    "with torch.no_grad():\n",
    "    for idx, (data, label, image_path) in enumerate(dataLoader):\n",
    "        \n",
    "        data = data.to(device)\n",
    "        prediction = model(data)\n",
    "        predict_label = torch.argmax(prediction.cpu(), dim=1)\n",
    "\n",
    "        \n",
    "        error = torch.nonzero(predict_label != label)\n",
    "        \n",
    "        for err in error:\n",
    "            _, fname = os.path.split(image_path[err])\n",
    "            plt.figure()\n",
    "            plt.imshow(Image.open(image_path[err]))\n",
    "            plt.title(f'pred: {classnames[predict_label[err].item()]}; actual: {classnames[label[err].item()]}; name: {fname}')\n",
    "            plt.show()\n",
    "            print(f'{classnames[label[err].item()]}/{fname}')\n",
    "            dest = os.path.join(f'figs/errors_foccsd_c/{classnames[predict_label[err].item()]}')\n",
    "            os.makedirs(dest, exist_ok=True)\n",
    "            #plt.savefig(os.path.join(dest, fname))\n",
    "            #print(image_path[err])\n",
    "            pred = classnames[predict_label[err].item()]\n",
    "            orig = classnames[label[err].item()]\n",
    "            err_name.append(fname)\n",
    "            err_pred.append(pred)\n",
    "            err_orig.append(orig)\n",
    "\n",
    "\n",
    "            break\n",
    "        \n",
    "\n",
    "    "
   ]
  },
  {
   "cell_type": "code",
   "execution_count": null,
   "metadata": {},
   "outputs": [
    {
     "name": "stderr",
     "output_type": "stream",
     "text": [
      "Bad pipe message: %s [b'\\xdc\\xb8\\xbeR\\xb6\\t\\xd0\\xe0\\x83\\x95+\\xd3\\xbe\\xd2\\x1bl6\\x18 \\xd1R\\x8e\\xf7{o\\x8aG\\x92\\xb2F\\xc5n\\xab)\\xec\\xe1\\xc5\\xce\\x11\\xe6u\\x01)\\xa8\\x98\\xd0\\xe9\\xbbAK\\xc3\\x00\\x08\\x13\\x02\\x13\\x03\\x13\\x01\\x00\\xff\\x01\\x00\\x00\\x8f\\x00\\x00\\x00\\x0e\\x00\\x0c\\x00\\x00\\t127.0.0.1\\x00\\x0b\\x00\\x04\\x03\\x00\\x01\\x02\\x00\\n\\x00\\x0c\\x00']\n",
      "Bad pipe message: %s [b'\\x1d\\x00\\x17\\x00\\x1e\\x00\\x19\\x00\\x18']\n",
      "Bad pipe message: %s [b\":\\xb6\\xaa\\x8atzk\\xc3\\xac\\xf6F\\x81\\xb6By\\xb2\\xc7\\xcc\\x00\\x00|\\xc0,\\xc00\\x00\\xa3\\x00\\x9f\\xcc\\xa9\\xcc\\xa8\\xcc\\xaa\\xc0\\xaf\\xc0\\xad\\xc0\\xa3\\xc0\\x9f\\xc0]\\xc0a\\xc0W\\xc0S\\xc0+\\xc0/\\x00\\xa2\\x00\\x9e\\xc0\\xae\\xc0\\xac\\xc0\\xa2\\xc0\\x9e\\xc0\\\\\\xc0`\\xc0V\\xc0R\\xc0$\\xc0(\\x00k\\x00j\\xc0#\\xc0'\\x00g\\x00@\\xc0\\n\\xc0\\x14\\x009\\x008\\xc0\\t\\xc0\\x13\\x003\\x002\\x00\\x9d\\xc0\\xa1\\xc0\\x9d\\xc0Q\\x00\\x9c\\xc0\\xa0\\xc0\\x9c\\xc0P\\x00\", b'<\\x005\\x00/\\x00\\x9a\\x00\\x99\\xc0\\x07\\xc0\\x11\\x00\\x96\\x00\\x05\\x00\\xff\\x01\\x00\\x00j\\x00\\x00\\x00\\x0e\\x00\\x0c\\x00\\x00\\t127.0.0.1\\x00\\x0b\\x00\\x04\\x03\\x00\\x01\\x02\\x00\\n\\x00\\x0c\\x00\\n\\x00\\x1d\\x00\\x17\\x00']\n",
      "Bad pipe message: %s [b'\\x19\\x00\\x18\\x00#\\x00\\x00\\x00\\x16\\x00\\x00\\x00\\x17\\x00\\x00\\x00\\r\\x000\\x00.\\x04\\x03\\x05\\x03\\x06\\x03\\x08\\x07']\n",
      "Bad pipe message: %s [b'\\x08\\t\\x08\\n\\x08\\x0b\\x08']\n",
      "Bad pipe message: %s [b'\\x05\\x08\\x06']\n",
      "Bad pipe message: %s [b'\\x05\\x01\\x06', b'', b'\\x03\\x03']\n",
      "Bad pipe message: %s [b'']\n",
      "Bad pipe message: %s [b'', b'\\x02']\n",
      "Bad pipe message: %s [b'\\x05\\x02\\x06']\n",
      "Bad pipe message: %s [b'\\xd6=\\xe2r\\xf2\\xf1\\xf8|(\\x92\\x11\\x14h\\xee\\xc6<\\xc6\\x94\\x00\\x00\\xa2\\xc0\\x14\\xc0\\n\\x009\\x008\\x007\\x006\\x00\\x88\\x00\\x87\\x00\\x86\\x00\\x85\\xc0\\x19\\x00:\\x00\\x89\\xc0\\x0f\\xc0\\x05\\x005\\x00\\x84\\xc0\\x13\\xc0\\t\\x003\\x002\\x001\\x000\\x00\\x9a\\x00\\x99\\x00\\x98\\x00\\x97\\x00E\\x00D\\x00C\\x00B\\xc0\\x18\\x004\\x00\\x9b\\x00F\\xc0\\x0e\\xc0\\x04\\x00/\\x00\\x96\\x00A\\x00\\x07\\xc0\\x11\\xc0\\x07\\xc0\\x16\\x00\\x18\\xc0\\x0c\\xc0\\x02\\x00\\x05\\x00\\x04\\xc0\\x12\\xc0\\x08\\x00\\x16\\x00\\x13\\x00\\x10\\x00\\r\\xc0\\x17\\x00\\x1b\\xc0\\r\\xc0\\x03\\x00\\n\\x00\\x15\\x00\\x12\\x00\\x0f\\x00\\x0c\\x00\\x1a\\x00\\t\\x00\\x14\\x00\\x11\\x00\\x19\\x00\\x08\\x00\\x06\\x00\\x17\\x00\\x03\\xc0\\x10\\xc0\\x06\\xc0\\x15\\xc0\\x0b\\xc0\\x01\\x00\\x02\\x00\\x01\\x00\\xff\\x02\\x01\\x00\\x00C\\x00\\x00\\x00\\x0e\\x00\\x0c\\x00\\x00\\t127.0.0.1\\x00\\x0b\\x00\\x04\\x03\\x00\\x01\\x02\\x00']\n",
      "Bad pipe message: %s [b'\\x1c\\x00\\x1a\\x00\\x17\\x00\\x19\\x00\\x1c']\n",
      "Bad pipe message: %s [b\"\\xaa\\xfc\\xade\\xf4\\x86\\x80\\x02\\xa9t\\xf0\\xc8\\x17XB%\\xa74\\x00\\x00\\x86\\xc00\\xc0,\\xc0(\\xc0$\\xc0\\x14\\xc0\\n\\x00\\xa5\\x00\\xa3\\x00\\xa1\\x00\\x9f\\x00k\\x00j\\x00i\\x00h\\x009\\x008\\x007\\x006\\xc02\\xc0.\\xc0*\\xc0&\\xc0\\x0f\\xc0\\x05\\x00\\x9d\\x00=\\x005\\xc0/\\xc0+\\xc0'\\xc0#\\xc0\\x13\\xc0\\t\\x00\\xa4\\x00\\xa2\\x00\\xa0\\x00\\x9e\\x00g\\x00@\\x00?\\x00>\\x003\\x002\\x001\\x000\\xc01\\xc0-\\xc0)\\xc0%\\xc0\\x0e\\xc0\\x04\\x00\\x9c\\x00<\\x00/\\x00\\x9a\\x00\\x99\\x00\\x98\\x00\\x97\\x00\\x96\\x00\\x07\\xc0\\x11\\xc0\\x07\\xc0\\x0c\\xc0\\x02\\x00\\x05\\x00\\x04\\x00\\xff\\x02\\x01\\x00\\x00g\\x00\\x00\\x00\\x0e\\x00\\x0c\\x00\\x00\\t127.0.0.1\\x00\\x0b\\x00\\x04\\x03\\x00\\x01\\x02\\x00\\n\\x00\\x1c\\x00\\x1a\\x00\\x17\\x00\\x19\\x00\\x1c\\x00\\x1b\\x00\\x18\\x00\\x1a\"]\n",
      "Bad pipe message: %s [b'\\x10g\\xb4\\x1d\\xfc\\x8e\\xf6B\\xf6\\x15.\\xbd\\xa3\\x91H_\\xd8X\\x00\\x00\\xf4\\xc00\\xc0', b'(\\xc0$\\xc0\\x14\\xc0\\n\\x00\\xa5\\x00\\xa3\\x00\\xa1\\x00\\x9f\\x00k\\x00j\\x00i\\x00h\\x009\\x008\\x007\\x006\\x00\\x88\\x00\\x87\\x00\\x86\\x00\\x85\\xc0\\x19\\x00\\xa7']\n"
     ]
    }
   ],
   "source": [
    "import pandas as pd\n",
    "tuple_list = list(zip(err_pred, err_orig, err_name))\n",
    "df = pd.DataFrame(tuple_list, columns = ['predicted', 'original', 'name'])\n",
    "#print(df)\n",
    "#df.to_csv('erros_foccsd')"
   ]
  }
 ],
 "metadata": {
  "kernelspec": {
   "display_name": "Python 3.9.12 ('tutorialenv')",
   "language": "python",
   "name": "python3"
  },
  "language_info": {
   "codemirror_mode": {
    "name": "ipython",
    "version": 3
   },
   "file_extension": ".py",
   "mimetype": "text/x-python",
   "name": "python",
   "nbconvert_exporter": "python",
   "pygments_lexer": "ipython3",
   "version": "3.9.12"
  },
  "orig_nbformat": 4,
  "vscode": {
   "interpreter": {
    "hash": "625c21b9c5c1d3185b7d370914dc1dda57484e1018387118f941b28f74f21283"
   }
  }
 },
 "nbformat": 4,
 "nbformat_minor": 2
}
