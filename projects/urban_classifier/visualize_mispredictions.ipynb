{
 "cells": [
  {
   "cell_type": "code",
   "execution_count": 1,
   "metadata": {},
   "outputs": [],
   "source": [
    "cfg_path = 'configs/cfg.yaml'\n",
    "split = 'val'\n",
    "output_folder = '/datadrive/animals_training_dataset/predictions/clean_bs128_w8_cl_wts'"
   ]
  },
  {
   "cell_type": "code",
   "execution_count": 3,
   "metadata": {},
   "outputs": [],
   "source": [
    "import yaml\n",
    "import os\n",
    "from PIL import Image\n",
    "import matplotlib.pyplot as plt\n",
    "import torch\n",
    "\n",
    "from util import init_seed\n",
    "from train import create_dataloader, load_model "
   ]
  },
  {
   "cell_type": "code",
   "execution_count": null,
   "metadata": {},
   "outputs": [],
   "source": [
    "cfg = yaml.safe_load(open(cfg_path, 'r'))\n",
    "cfg['model_dir'] = os.path.join('..', '..', cfg['model_dir'])\n",
    "init_seed(cfg.get('seed', None))\n",
    "device = cfg['device']\n",
    "if device != 'cpu' and not torch.cuda.is_available():\n",
    "    print(f'WARNING: device set to \"{device}\" but CUDA not available; falling back to CPU...')\n",
    "    cfg['device'] = 'cpu'\n",
    "\n",
    "dataLoader = create_dataloader(cfg, split=split)\n",
    "classnames = dict([v,k] for k,v in dataLoader.dataset.species_to_index_mapping.items())\n",
    "model, epoch = load_model(cfg)\n",
    "model.to(device)\n",
    "model.eval()\n",
    "\n",
    "with torch.no_grad():\n",
    "    for idx, (data, label, image_path) in enumerate(dataLoader):\n",
    "        data = data.to(device)\n",
    "        prediction = model(data)\n",
    "        predict_label = torch.argmax(prediction.cpu(), dim=1)\n",
    "\n",
    "        \n",
    "        error = torch.nonzero(predict_label == label)\n",
    "\n",
    "        for err in error:\n",
    "            plt.figure()\n",
    "            plt.imshow(Image.open(image_path[err]))\n",
    "            plt.title(f'pred: {classnames[predict_label[err].item()]}; actual: {classnames[label[err].item()]}')\n",
    "            plt.show()\n",
    "            plt.savefig()\n",
    "            #print(image_path[err])\n",
    "        \n",
    "\n",
    "    "
   ]
  }
 ],
 "metadata": {
  "kernelspec": {
   "display_name": "Python 3.9.12 ('tutorialenv')",
   "language": "python",
   "name": "python3"
  },
  "language_info": {
   "codemirror_mode": {
    "name": "ipython",
    "version": 3
   },
   "file_extension": ".py",
   "mimetype": "text/x-python",
   "name": "python",
   "nbconvert_exporter": "python",
   "pygments_lexer": "ipython3",
   "version": "3.9.12"
  },
  "orig_nbformat": 4,
  "vscode": {
   "interpreter": {
    "hash": "625c21b9c5c1d3185b7d370914dc1dda57484e1018387118f941b28f74f21283"
   }
  }
 },
 "nbformat": 4,
 "nbformat_minor": 2
}
